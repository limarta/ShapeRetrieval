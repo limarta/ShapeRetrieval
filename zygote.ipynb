{
 "cells": [
  {
   "cell_type": "code",
   "execution_count": 1,
   "metadata": {},
   "outputs": [],
   "source": [
    "using Zygote\n",
    "using LinearAlgebra\n",
    "import LinearAlgebra: ldiv!\n",
    "using SparseArrays\n",
    "using Arpack\n",
    "using BenchmarkTools"
   ]
  },
  {
   "cell_type": "code",
   "execution_count": 30,
   "metadata": {},
   "outputs": [],
   "source": [
    "function f(A,b,dt) \n",
    "    # C = cholesky(Matrix(A)) # this works\n",
    "    D = I + dt * A\n",
    "    C = cholesky(D) # Sparse array\n",
    "    x = C \\ b\n",
    "    sum(x)\n",
    "end\n",
    "function ldiv!(x::AbstractVector, F::SparseArrays.CHOLMOD.Factor{Float64}, b::Vector{Float64})\n",
    "    println(\"ldiv!\")\n",
    "    x .= A \\ b\n",
    "end\n",
    "function ldiv!(F::SparseArrays.CHOLMOD.Factor{Float64}, b::Vector{Float64})\n",
    "    println(\"ldiv!x\")\n",
    "    x = similar(b)\n",
    "    ldiv!(x, F, b)\n",
    "end\n",
    "Zygote.@adjoint function cholesky(::SparseMatrixCSC{Float64, Int64}) \n",
    "    Af = cholesky(A)\n",
    "    function g(y)\n",
    "        println(\"adjoint\")\n",
    "        1.0\n",
    "    end\n",
    "    Af, g\n",
    "end\n",
    "Zygote.@adjoint function SparseArrays.CHOLMOD.Dense{Float64}(x)\n",
    "    x, 1.0\n",
    "end\n"
   ]
  },
  {
   "cell_type": "code",
   "execution_count": 31,
   "metadata": {},
   "outputs": [
    {
     "ename": "StackOverflowError",
     "evalue": "StackOverflowError:",
     "output_type": "error",
     "traceback": [
      "StackOverflowError:\n",
      "\n",
      "Stacktrace:\n",
      " [1] _pullback(::Zygote.Context{false}, ::typeof(\\), ::SparseArrays.CHOLMOD.Factor{Float64}, ::Vector{Float64})\n",
      "   @ Zygote ~/.julia/packages/Zygote/SuKWp/src/compiler/interface2.jl:9\n",
      " [2] _pullback\n",
      "   @ ~/.julia/juliaup/julia-1.9.0-rc3+0.aarch64.apple.darwin14/share/julia/stdlib/v1.9/SparseArrays/src/solvers/cholmod.jl:1546 [inlined]\n",
      " [3] _pullback(::Zygote.Context{false}, ::typeof(\\), ::SparseArrays.CHOLMOD.Factor{Float64}, ::Vector{Float64})\n",
      "   @ Zygote ~/.julia/packages/Zygote/SuKWp/src/compiler/interface2.jl:0"
     ]
    }
   ],
   "source": [
    "n = 6\n",
    "A = sprand(n,n,0.2)\n",
    "A = A * A' + .01 * I\n",
    "b = rand(n)\n",
    "t = rand()\n",
    "\n",
    "# println(f(A,b))\n",
    "for i=1:300\n",
    "    grad = Zygote.gradient(f,A,b,t)\n",
    "    println(grad)\n",
    "    b -= 0.0001 * grad[3]\n",
    "    if i % 1 == 0\n",
    "        println(f(A,b))\n",
    "    end\n",
    "end\n",
    "println(f(A,b))"
   ]
  },
  {
   "cell_type": "code",
   "execution_count": 29,
   "metadata": {},
   "outputs": [
    {
     "name": "stdout",
     "output_type": "stream",
     "text": [
      "  2.321081 seconds (4.81 k allocations: 1.490 GiB, 0.39% gc time, 0.30% compilation time)\n"
     ]
    },
    {
     "data": {
      "text/plain": [
       "Cholesky{Float64, Matrix{Float64}}\n",
       "U factor:\n",
       "10000×10000 UpperTriangular{Float64, Matrix{Float64}}:\n",
       " 0.1  0.0  0.0  0.0  0.0       0.0  …  0.0       0.0       0.0  0.0\n",
       "  ⋅   0.1  0.0  0.0  0.0       0.0     0.0       0.0       0.0  0.0\n",
       "  ⋅    ⋅   0.1  0.0  0.0       0.0     0.0       0.0       0.0  0.0\n",
       "  ⋅    ⋅    ⋅   0.1  0.0       0.0     0.0       0.0       0.0  0.0\n",
       "  ⋅    ⋅    ⋅    ⋅   0.318149  0.0     0.0       0.0       0.0  0.0\n",
       "  ⋅    ⋅    ⋅    ⋅    ⋅        0.1  …  0.0       0.0       0.0  0.0\n",
       "  ⋅    ⋅    ⋅    ⋅    ⋅         ⋅      0.0       0.0       0.0  0.0\n",
       "  ⋅    ⋅    ⋅    ⋅    ⋅         ⋅      0.0       0.0       0.0  0.0\n",
       "  ⋅    ⋅    ⋅    ⋅    ⋅         ⋅      0.0       0.0       0.0  0.0\n",
       "  ⋅    ⋅    ⋅    ⋅    ⋅         ⋅      0.0       0.0       0.0  0.0\n",
       " ⋮                             ⋮    ⋱                           \n",
       "  ⋅    ⋅    ⋅    ⋅    ⋅         ⋅      0.0       0.0       0.0  0.0\n",
       "  ⋅    ⋅    ⋅    ⋅    ⋅         ⋅      0.0       0.0       0.0  0.0\n",
       "  ⋅    ⋅    ⋅    ⋅    ⋅         ⋅      0.0       0.0       0.0  0.0\n",
       "  ⋅    ⋅    ⋅    ⋅    ⋅         ⋅      0.0       0.0       0.0  0.0\n",
       "  ⋅    ⋅    ⋅    ⋅    ⋅         ⋅   …  0.0       0.0       0.0  0.0\n",
       "  ⋅    ⋅    ⋅    ⋅    ⋅         ⋅      0.669138  0.0       0.0  0.0\n",
       "  ⋅    ⋅    ⋅    ⋅    ⋅         ⋅       ⋅        0.595708  0.0  0.0\n",
       "  ⋅    ⋅    ⋅    ⋅    ⋅         ⋅       ⋅         ⋅        0.1  0.0\n",
       "  ⋅    ⋅    ⋅    ⋅    ⋅         ⋅       ⋅         ⋅         ⋅   0.283509"
      ]
     },
     "metadata": {},
     "output_type": "display_data"
    }
   ],
   "source": [
    "A = sprand(10000,10000, 0.0001)\n",
    "A = A * A' + .01 * I\n",
    "function factorize(A)\n",
    "    D = Matrix(A)\n",
    "    cholesky(D)\n",
    "end\n",
    "@time factorize(A)"
   ]
  },
  {
   "cell_type": "code",
   "execution_count": 55,
   "metadata": {},
   "outputs": [
    {
     "data": {
      "text/plain": [
       "3×3 Matrix{Bool}:\n",
       " 1  0  0\n",
       " 0  1  0\n",
       " 0  0  1"
      ]
     },
     "metadata": {},
     "output_type": "display_data"
    },
    {
     "data": {
      "text/plain": [
       "3×3 Diagonal{Float64, Vector{Float64}}:\n",
       " 1.0   ⋅    ⋅ \n",
       "  ⋅   1.0   ⋅ \n",
       "  ⋅    ⋅   1.0"
      ]
     },
     "metadata": {},
     "output_type": "display_data"
    },
    {
     "data": {
      "text/plain": [
       "3×3 Diagonal{Float64, Vector{Float64}}:\n",
       " 1.0   ⋅    ⋅ \n",
       "  ⋅   1.0   ⋅ \n",
       "  ⋅    ⋅   1.0"
      ]
     },
     "metadata": {},
     "output_type": "display_data"
    },
    {
     "data": {
      "text/plain": [
       "9×9 Matrix{Float64}:\n",
       " 0.5  0.0  0.0  0.0  0.0  0.0  0.0  0.0  0.0\n",
       " 0.0  0.0  0.0  0.0  0.0  0.0  0.0  0.0  0.0\n",
       " 0.0  0.0  0.0  0.0  0.0  0.0  0.0  0.0  0.0\n",
       " 0.0  0.0  0.0  0.0  0.0  0.0  0.0  0.0  0.0\n",
       " 0.0  0.0  0.0  0.0  0.5  0.0  0.0  0.0  0.0\n",
       " 0.0  0.0  0.0  0.0  0.0  0.0  0.0  0.0  0.0\n",
       " 0.0  0.0  0.0  0.0  0.0  0.0  0.0  0.0  0.0\n",
       " 0.0  0.0  0.0  0.0  0.0  0.0  0.0  0.0  0.0\n",
       " 0.0  0.0  0.0  0.0  0.0  0.0  0.0  0.0  0.5"
      ]
     },
     "metadata": {},
     "output_type": "display_data"
    }
   ],
   "source": [
    "display(Matrix(I(3)))\n",
    "display(cholesky(I(3)).L)\n",
    "display(cholesky(I(3)).U)\n",
    "\n",
    "function dense_chol(A)\n",
    "    cholesky(A).L\n",
    "end\n",
    "Zygote.jacobian(dense_chol, I(3))[1]"
   ]
  },
  {
   "cell_type": "code",
   "execution_count": 20,
   "metadata": {},
   "outputs": [
    {
     "name": "stdout",
     "output_type": "stream",
     "text": [
      "0.00258926\n",
      "Sparse\n"
     ]
    },
    {
     "name": "stdout",
     "output_type": "stream",
     "text": [
      "  567.158 ms (66 allocations: 520.06 MiB)\n",
      "Sparse Cholesky\n"
     ]
    },
    {
     "name": "stdout",
     "output_type": "stream",
     "text": [
      "  552.383 ms (54 allocations: 521.77 MiB)\n"
     ]
    },
    {
     "name": "stdout",
     "output_type": "stream",
     "text": [
      "  59.221 ms (2 allocations: 78.17 KiB)\n",
      "Dense\n"
     ]
    },
    {
     "name": "stdout",
     "output_type": "stream",
     "text": [
      "  139.791 ms (2 allocations: 762.94 MiB)\n"
     ]
    },
    {
     "name": "stdout",
     "output_type": "stream",
     "text": [
      "  59.739 ms (2 allocations: 78.17 KiB)\n",
      "Dense Cholesky\n"
     ]
    },
    {
     "name": "stdout",
     "output_type": "stream",
     "text": [
      "  1.718 s (4 allocations: 1.49 GiB)\n"
     ]
    },
    {
     "name": "stdout",
     "output_type": "stream",
     "text": [
      "  60.133 ms (2 allocations: 78.17 KiB)\n"
     ]
    }
   ],
   "source": [
    "N = 10000\n",
    "A = sprand(N,N,.0005)\n",
    "A = A * A' + .01 * I\n",
    "density(A) = count(x->x!=0, A) / (size(A)[1]^2)\n",
    "println(density(A))\n",
    "b = rand(N)\n",
    "function f(A,b)\n",
    "    D = cholesky(A)\n",
    "    x = D \\ b\n",
    "    sum(x)\n",
    "end\n",
    "# Zygote.gradient(f, A, b)\n",
    "println(\"Sparse\")\n",
    "@btime $(A) \\ $(b)\n",
    "println(\"Sparse Cholesky\")\n",
    "@btime D = cholesky($(A))\n",
    "@btime $(D) \\ $(b)\n",
    "println(\"Dense\")\n",
    "@btime D = Matrix($(A))\n",
    "@btime $(D) \\ $(b)\n",
    "println(\"Dense Cholesky\")\n",
    "@btime D = cholesky(Matrix($(A)))\n",
    "@btime $(D) \\ $(b);"
   ]
  },
  {
   "cell_type": "code",
   "execution_count": null,
   "metadata": {},
   "outputs": [],
   "source": []
  }
 ],
 "metadata": {
  "kernelspec": {
   "display_name": "Julia 1.9.0-rc3",
   "language": "julia",
   "name": "julia-1.9"
  },
  "language_info": {
   "file_extension": ".jl",
   "mimetype": "application/julia",
   "name": "julia",
   "version": "1.9.0-rc3"
  },
  "orig_nbformat": 4
 },
 "nbformat": 4,
 "nbformat_minor": 2
}
