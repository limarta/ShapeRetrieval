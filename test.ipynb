{
 "cells": [
  {
   "cell_type": "code",
   "execution_count": 1,
   "metadata": {},
   "outputs": [],
   "source": [
    "import ShapeRetrieval: ShapeRetrieval as SR\n",
    "using ShapeRetrieval: LearnedTimeDiffusionBlock\n",
    "import ShapeRetrieval: Mesh, heat_integrator\n",
    "using LinearAlgebra\n",
    "using SparseArrays\n",
    "using Flux\n",
    "using Zygote"
   ]
  },
  {
   "attachments": {},
   "cell_type": "markdown",
   "metadata": {},
   "source": [
    "### Visualization Tools"
   ]
  },
  {
   "cell_type": "code",
   "execution_count": 2,
   "metadata": {},
   "outputs": [
    {
     "name": "stdout",
     "output_type": "stream",
     "text": [
      "nv: 326 nf: 648 Area: 2.681867885523121\n",
      "0.02135947909217509\n"
     ]
    }
   ],
   "source": [
    "bunny = SR.load_obj(\"./meshes/gourd.obj\")\n",
    "bunny = SR.normalize_mesh(bunny)\n",
    "println(\"nv: $(bunny.nv) nf: $(bunny.nf) Area: \", sum(bunny.vertex_area))\n",
    "println(count(x->x != 0, bunny.cot_laplacian) / (bunny.nv ^2 ))"
   ]
  },
  {
   "cell_type": "code",
   "execution_count": 3,
   "metadata": {},
   "outputs": [
    {
     "data": {
      "text/plain": [
       "spectral_loss (generic function with 1 method)"
      ]
     },
     "metadata": {},
     "output_type": "display_data"
    }
   ],
   "source": [
    "function spectral_loss(model, x, λ, ϕ, A, y) \n",
    "    norm(model(x, λ, ϕ, A) - y)\n",
    "end"
   ]
  },
  {
   "attachments": {},
   "cell_type": "markdown",
   "metadata": {},
   "source": [
    "## Example Prediction using Spectral Mode"
   ]
  },
  {
   "cell_type": "code",
   "execution_count": 6,
   "metadata": {},
   "outputs": [
    {
     "data": {
      "text/plain": [
       "326×2 Matrix{Float64}:\n",
       " 0.00144339   0.00127098\n",
       " 0.00112018   0.00135911\n",
       " 0.001112     0.00126271\n",
       " 0.0010096    0.00143556\n",
       " 0.000994595  0.00124275\n",
       " 0.000949046  0.00125305\n",
       " 0.00086545   0.00172004\n",
       " 0.000894899  0.00133364\n",
       " 0.000845472  0.00166721\n",
       " 0.000870316  0.00143804\n",
       " ⋮            \n",
       " 0.00084087   0.000346435\n",
       " 0.0008409    0.000346688\n",
       " 0.000840878  0.000346475\n",
       " 0.000839415  0.000334234\n",
       " 0.000839401  0.000334119\n",
       " 0.000839305  0.00033332\n",
       " 0.000839233  0.000332726\n",
       " 0.000839235  0.000332743\n",
       " 0.000839012  0.000330892"
      ]
     },
     "metadata": {},
     "output_type": "display_data"
    }
   ],
   "source": [
    "m = LearnedTimeDiffusionBlock(2, :implicit)\n",
    "heat_signal = zeros(bunny.nv,2)\n",
    "heat_signal[1, 1] = 1.0\n",
    "heat_signal[200,2] = 1.0\n",
    "# λ, ϕ, A = SR.get_diffusion_inputs(bunny, :spectral)\n",
    "L, A = SR.get_diffusion_inputs(bunny, :implicit)\n",
    "m(heat_signal, L, M, A)"
   ]
  },
  {
   "attachments": {},
   "cell_type": "markdown",
   "metadata": {},
   "source": [
    "#### Sample Training "
   ]
  },
  {
   "cell_type": "code",
   "execution_count": 7,
   "metadata": {},
   "outputs": [
    {
     "name": "stdout",
     "output_type": "stream",
     "text": [
      "t_init [0.6549644890868839, 0.031075904093261553]\n",
      "t_start: [0.11224827247052371, 0.6408751149448856]\n",
      "start cost 0.08776921174413899\n"
     ]
    },
    {
     "name": "stdout",
     "output_type": "stream",
     "text": [
      "  9.859870 seconds (2.46 M allocations: 22.903 GiB, 14.73% gc time, 5.22% compilation time: 30% of which was recompilation)\n",
      "0.00046355064331790987\n"
     ]
    },
    {
     "name": "stdout",
     "output_type": "stream",
     "text": [
      "LearnedTimeDiffusionBlock(2, [0.6549644890868397, 0.030858460918697775], :"
     ]
    },
    {
     "name": "stdout",
     "output_type": "stream",
     "text": [
      "implicit)\n"
     ]
    }
   ],
   "source": [
    "λ, ϕ, A = SR.get_diffusion_inputs(bunny, :implicit)\n",
    "\n",
    "opt_state = Flux.setup(Adam(), m);\n",
    "\n",
    "y_true = m(heat_signal, λ, ϕ, A)\n",
    "println(\"t_init \", m.diffusion_time)\n",
    "m = LearnedTimeDiffusionBlock(2, :implicit)\n",
    "println(\"t_start: \", m.diffusion_time)\n",
    "println(\"start cost \", spectral_loss(m, heat_signal, λ, ϕ, A, y_true))\n",
    "@time for i=1:2000\n",
    "    x, y  = heat_signal, y_true\n",
    "    grad = gradient(spectral_loss, m, x, λ, ϕ, A, y)\n",
    "    Flux.update!(opt_state, m, grad[1])\n",
    "end\n",
    "println(spectral_loss(m,heat_signal, λ, ϕ, A, y_true))\n",
    "println(m)"
   ]
  },
  {
   "cell_type": "code",
   "execution_count": 6,
   "metadata": {},
   "outputs": [
    {
     "name": "stdout",
     "output_type": "stream",
     "text": [
      "(200, 2)\n"
     ]
    },
    {
     "name": "stdout",
     "output_type": "stream",
     "text": [
      "[2.9274950637401447, 0.7993044171182087]\n"
     ]
    }
   ],
   "source": [
    "m(heat_signal, SR.get_diffusion_inputs(bunny)...)\n",
    "println(m.diffusion_time)"
   ]
  },
  {
   "attachments": {},
   "cell_type": "markdown",
   "metadata": {},
   "source": [
    "### AD with Implicit Mode"
   ]
  },
  {
   "cell_type": "code",
   "execution_count": 7,
   "metadata": {},
   "outputs": [
    {
     "data": {
      "text/plain": [
       "0.30148325561767775"
      ]
     },
     "metadata": {},
     "output_type": "display_data"
    }
   ],
   "source": [
    "m = LearnedTimeDiffusionBlock(2, :implicit)\n",
    "Flux.trainable(m::LearnedTimeDiffusionBlock) = (m.diffusion_time,)\n",
    "\n",
    "function implicit_loss(model, x, L, M, A::Vector{Float64}, y)\n",
    "    norm(model(x, L, M, A) - y)\n",
    "end\n",
    "\n",
    "inputs = SR.get_diffusion_inputs(bunny,:implicit)\n",
    "m(heat_signal, inputs...)"
   ]
  },
  {
   "cell_type": "code",
   "execution_count": 49,
   "metadata": {},
   "outputs": [
    {
     "data": {
      "text/plain": [
       "0.3014815281221147"
      ]
     },
     "metadata": {},
     "output_type": "display_data"
    },
    {
     "data": {
      "text/plain": [
       "0.301481517244275"
      ]
     },
     "metadata": {},
     "output_type": "display_data"
    }
   ],
   "source": [
    "heat_signal = zeros(bunny.nv)\n",
    "heat_signal[[1, 300]] .= 1.0\n",
    "L, M, A = SR.get_diffusion_inputs(bunny, :implicit)\n",
    "display(m(heat_signal, L, M, A))\n",
    "data = [(heat_signal, bunny, 0.0),]\n",
    "\n",
    "opt_state = Flux.setup(Adam(), m)\n",
    "\n",
    "for i=1:1000\n",
    "    for d in data\n",
    "        x, mesh, y  = d\n",
    "        grad = gradient(implicit_loss, m, x, L,M,A, y)\n",
    "        Flux.update!(opt_state, m, grad[1])\n",
    "    end\n",
    "end\n",
    "\n",
    "display(m(heat_signal, L, M, A))"
   ]
  }
 ],
 "metadata": {
  "kernelspec": {
   "display_name": "Julia 1.9.0-rc3",
   "language": "julia",
   "name": "julia-1.9"
  },
  "language_info": {
   "file_extension": ".jl",
   "mimetype": "application/julia",
   "name": "julia",
   "version": "1.9.0-rc3"
  },
  "orig_nbformat": 4
 },
 "nbformat": 4,
 "nbformat_minor": 2
}
