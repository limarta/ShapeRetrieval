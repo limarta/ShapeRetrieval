{
 "cells": [
  {
   "cell_type": "code",
   "execution_count": 3,
   "metadata": {},
   "outputs": [],
   "source": [
    "import ShapeRetrieval: ShapeRetrieval as SR\n",
    "using ShapeRetrieval: LearnedTimeDiffusionBlock\n",
    "import ShapeRetrieval: Mesh, heat_integrator\n",
    "using LinearAlgebra\n",
    "using SparseArrays\n",
    "using Flux"
   ]
  },
  {
   "attachments": {},
   "cell_type": "markdown",
   "metadata": {},
   "source": [
    "### Visualization Tools"
   ]
  },
  {
   "cell_type": "code",
   "execution_count": 4,
   "metadata": {},
   "outputs": [
    {
     "name": "stdout",
     "output_type": "stream",
     "text": [
      "Area: 2.681867885523121\n"
     ]
    }
   ],
   "source": [
    "bunny = SR.load_obj(\"./meshes/gourd.obj\")\n",
    "bunny = SR.normalize_mesh(bunny)\n",
    "println(\"Area: \", sum(bunny.vertex_area))"
   ]
  },
  {
   "cell_type": "code",
   "execution_count": 5,
   "metadata": {},
   "outputs": [
    {
     "data": {
      "text/plain": [
       "spectral_loss (generic function with 1 method)"
      ]
     },
     "metadata": {},
     "output_type": "display_data"
    }
   ],
   "source": [
    "function spectral_loss(model, x, λ, ϕ, A, y) \n",
    "    norm(model(x, λ, ϕ, A) - y)\n",
    "end"
   ]
  },
  {
   "attachments": {},
   "cell_type": "markdown",
   "metadata": {},
   "source": [
    "## Example Prediction using Spectral Mode"
   ]
  },
  {
   "cell_type": "code",
   "execution_count": 6,
   "metadata": {},
   "outputs": [
    {
     "data": {
      "text/plain": [
       "326×2 Matrix{Float64}:\n",
       " 8.32397e-6  8.29702e-6\n",
       " 8.31679e-6  8.29011e-6\n",
       " 8.33114e-6  8.30392e-6\n",
       " 8.31452e-6  8.28793e-6\n",
       " 8.33978e-6  8.31223e-6\n",
       " 8.34207e-6  8.31444e-6\n",
       " 8.30344e-6  8.27726e-6\n",
       " 8.33781e-6  8.31033e-6\n",
       " 8.31065e-6  8.2842e-6\n",
       " 8.32873e-6  8.3016e-6\n",
       " ⋮           \n",
       " 8.53269e-6  8.49781e-6\n",
       " 8.53261e-6  8.49773e-6\n",
       " 8.53266e-6  8.49778e-6\n",
       " 8.53662e-6  8.50159e-6\n",
       " 8.53666e-6  8.50163e-6\n",
       " 8.53692e-6  8.50188e-6\n",
       " 8.53712e-6  8.50207e-6\n",
       " 8.53711e-6  8.50206e-6\n",
       " 8.53771e-6  8.50264e-6"
      ]
     },
     "metadata": {},
     "output_type": "display_data"
    }
   ],
   "source": [
    "m = LearnedTimeDiffusionBlock(2, :spectral)\n",
    "heat_signal = zeros(bunny.nv)\n",
    "heat_signal[[1, 300]] .= 1.0\n",
    "λ, ϕ, A = SR.get_diffusion_inputs(bunny)\n",
    "m(heat_signal, λ, ϕ, A)"
   ]
  },
  {
   "attachments": {},
   "cell_type": "markdown",
   "metadata": {},
   "source": [
    "#### Sample Training "
   ]
  },
  {
   "cell_type": "code",
   "execution_count": 7,
   "metadata": {},
   "outputs": [
    {
     "name": "stderr",
     "output_type": "stream",
     "text": [
      "┌ Warning: trainable(x) should now return a NamedTuple with the field names, not a Tuple\n",
      "└ @ Optimisers /Users/ian/.julia/packages/Optimisers/1x8gl/src/interface.jl:173\n"
     ]
    },
    {
     "ename": "MethodError",
     "evalue": "MethodError: no method matching -(::Matrix{Float64}, ::Float64)\nFor element-wise subtraction, use broadcasting with dot syntax: array .- scalar\n\nClosest candidates are:\n  -(!Matched::T, ::T) where T<:Union{Float16, Float32, Float64}\n   @ Base float.jl:409\n  -(!Matched::GeometryBasics.HyperRectangle{N, T}, ::Number) where {N, T}\n   @ GeometryBasics ~/.julia/packages/GeometryBasics/Du43H/src/primitives/rectangles.jl:266\n  -(!Matched::SIMD.Vec{N, T}, ::T2) where {N, T2<:Union{Float32, Float64, Int16, Int32, Int64, Int8, UInt16, UInt32, UInt64, UInt8}, T<:Union{Float32, Float64}}\n   @ SIMD ~/.julia/packages/SIMD/7eukp/src/simdvec.jl:398\n  ...\n",
     "output_type": "error",
     "traceback": [
      "MethodError: no method matching -(::Matrix{Float64}, ::Float64)\n",
      "For element-wise subtraction, use broadcasting with dot syntax: array .- scalar\n",
      "\n",
      "Closest candidates are:\n",
      "  -(!Matched::T, ::T) where T<:Union{Float16, Float32, Float64}\n",
      "   @ Base float.jl:409\n",
      "  -(!Matched::GeometryBasics.HyperRectangle{N, T}, ::Number) where {N, T}\n",
      "   @ GeometryBasics ~/.julia/packages/GeometryBasics/Du43H/src/primitives/rectangles.jl:266\n",
      "  -(!Matched::SIMD.Vec{N, T}, ::T2) where {N, T2<:Union{Float32, Float64, Int16, Int32, Int64, Int8, UInt16, UInt32, UInt64, UInt8}, T<:Union{Float32, Float64}}\n",
      "   @ SIMD ~/.julia/packages/SIMD/7eukp/src/simdvec.jl:398\n",
      "  ...\n",
      "\n",
      "\n",
      "Stacktrace:\n",
      "  [1] macro expansion\n",
      "    @ ~/.julia/packages/Zygote/SuKWp/src/compiler/interface2.jl:0 [inlined]\n",
      "  [2] _pullback(::Zygote.Context{false}, ::typeof(-), ::Matrix{Float64}, ::Float64)\n",
      "    @ Zygote ~/.julia/packages/Zygote/SuKWp/src/compiler/interface2.jl:9\n",
      "  [3] _pullback\n",
      "    @ ~/Documents/classes/6.8410/ShapeRetrieval/ShapeRetrieval/test.ipynb:2 [inlined]\n",
      "  [4] _pullback(::Zygote.Context{false}, ::typeof(spectral_loss), ::LearnedTimeDiffusionBlock, ::Vector{Float64}, ::Vector{ComplexF64}, ::Matrix{ComplexF64}, ::Vector{Float64}, ::Float64)\n",
      "    @ Zygote ~/.julia/packages/Zygote/SuKWp/src/compiler/interface2.jl:0\n",
      "  [5] pullback(::Function, ::Zygote.Context{false}, ::LearnedTimeDiffusionBlock, ::Vararg{Any})\n",
      "    @ Zygote ~/.julia/packages/Zygote/SuKWp/src/compiler/interface.jl:44\n",
      "  [6] pullback(::Function, ::LearnedTimeDiffusionBlock, ::Vector{Float64}, ::Vararg{Any})\n",
      "    @ Zygote ~/.julia/packages/Zygote/SuKWp/src/compiler/interface.jl:42\n",
      "  [7] gradient(::Function, ::LearnedTimeDiffusionBlock, ::Vararg{Any})\n",
      "    @ Zygote ~/.julia/packages/Zygote/SuKWp/src/compiler/interface.jl:96\n",
      "  [8] macro expansion\n",
      "    @ ~/Documents/classes/6.8410/ShapeRetrieval/ShapeRetrieval/test.ipynb:9 [inlined]\n",
      "  [9] top-level scope\n",
      "    @ ./timing.jl:273 [inlined]\n",
      " [10] top-level scope\n",
      "    @ ~/Documents/classes/6.8410/ShapeRetrieval/ShapeRetrieval/test.ipynb:0"
     ]
    }
   ],
   "source": [
    "data = [(heat_signal, 0.0),]\n",
    "λ, ϕ, A = SR.get_diffusion_inputs(bunny)\n",
    "\n",
    "opt_state = Flux.setup(Adam(), m);\n",
    "\n",
    "@time for i=1:1000\n",
    "    for d in data\n",
    "        x, y  = d\n",
    "        grad = gradient(spectral_loss, m, x, λ, ϕ, A, y)\n",
    "        Flux.update!(opt_state, m, grad[1])\n",
    "    end\n",
    "end\n",
    "println(m(heat_signal, λ, ϕ, A))"
   ]
  },
  {
   "cell_type": "code",
   "execution_count": 6,
   "metadata": {},
   "outputs": [
    {
     "name": "stdout",
     "output_type": "stream",
     "text": [
      "(200, 2)\n"
     ]
    },
    {
     "name": "stdout",
     "output_type": "stream",
     "text": [
      "[2.9274950637401447, 0.7993044171182087]\n"
     ]
    }
   ],
   "source": [
    "m(heat_signal, SR.get_diffusion_inputs(bunny)...)\n",
    "println(m.diffusion_time)"
   ]
  },
  {
   "attachments": {},
   "cell_type": "markdown",
   "metadata": {},
   "source": [
    "### AD with Implicit Mode"
   ]
  },
  {
   "cell_type": "code",
   "execution_count": 7,
   "metadata": {},
   "outputs": [
    {
     "data": {
      "text/plain": [
       "0.30148325561767775"
      ]
     },
     "metadata": {},
     "output_type": "display_data"
    }
   ],
   "source": [
    "m = LearnedTimeDiffusionBlock(2, :implicit)\n",
    "Flux.trainable(m::LearnedTimeDiffusionBlock) = (m.diffusion_time,)\n",
    "\n",
    "function implicit_loss(model, x, L, M, A::Vector{Float64}, y)\n",
    "    norm(model(x, L, M, A) - y)\n",
    "end\n",
    "\n",
    "inputs = SR.get_diffusion_inputs(bunny,:implicit)\n",
    "m(heat_signal, inputs...)"
   ]
  },
  {
   "cell_type": "code",
   "execution_count": 49,
   "metadata": {},
   "outputs": [
    {
     "data": {
      "text/plain": [
       "0.3014815281221147"
      ]
     },
     "metadata": {},
     "output_type": "display_data"
    },
    {
     "data": {
      "text/plain": [
       "0.301481517244275"
      ]
     },
     "metadata": {},
     "output_type": "display_data"
    }
   ],
   "source": [
    "heat_signal = zeros(bunny.nv)\n",
    "heat_signal[[1, 300]] .= 1.0\n",
    "L, M, A = SR.get_diffusion_inputs(bunny, :implicit)\n",
    "display(m(heat_signal, L, M, A))\n",
    "data = [(heat_signal, bunny, 0.0),]\n",
    "\n",
    "opt_state = Flux.setup(Adam(), m)\n",
    "\n",
    "for i=1:1000\n",
    "    for d in data\n",
    "        x, mesh, y  = d\n",
    "        grad = gradient(implicit_loss, m, x, L,M,A, y)\n",
    "        Flux.update!(opt_state, m, grad[1])\n",
    "    end\n",
    "end\n",
    "\n",
    "display(m(heat_signal, L, M, A))"
   ]
  }
 ],
 "metadata": {
  "kernelspec": {
   "display_name": "Julia 1.9.0-rc3",
   "language": "julia",
   "name": "julia-1.9"
  },
  "language_info": {
   "file_extension": ".jl",
   "mimetype": "application/julia",
   "name": "julia",
   "version": "1.9.0-rc3"
  },
  "orig_nbformat": 4
 },
 "nbformat": 4,
 "nbformat_minor": 2
}
