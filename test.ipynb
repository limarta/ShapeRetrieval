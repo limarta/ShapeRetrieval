{
 "cells": [
  {
   "cell_type": "code",
   "execution_count": 1,
   "metadata": {},
   "outputs": [],
   "source": [
    "# using JSServe\n",
    "# Page(exportable=true, offline=true)\n",
    "using ShapeRetrieval\n",
    "using PlotlyJS\n",
    "using Arpack\n",
    "using LinearAlgebra\n",
    "# using WGLMakie\n",
    "# WGLMakie.activate!()\n",
    "# Makie.inline!(true)"
   ]
  },
  {
   "attachments": {},
   "cell_type": "markdown",
   "metadata": {},
   "source": [
    "### Visualization Tools"
   ]
  },
  {
   "cell_type": "code",
   "execution_count": 2,
   "metadata": {},
   "outputs": [],
   "source": [
    "# mesh = mesh3d(\n",
    "#     x=[0, 1, 2, 0],\n",
    "#     y=[0, 0, 1, 2],\n",
    "#     z=[0, 2, 0, 1],\n",
    "#     colorbar_title=\"z\",\n",
    "#     colorscale=[[0, \"gold\"],\n",
    "#                 [0.5, \"mediumturquoise\"],\n",
    "#                 [1, \"magenta\"]],\n",
    "#     # Intensity of each vertex, which will be interpolated and color-coded\n",
    "#     intensity=[0, 0.33, 0.66, 1],\n",
    "#     # i, j and k give the vertices of triangles\n",
    "#     # here we represent the 4 triangles of the tetrahedron surface\n",
    "#     i=[0, 0, 0, 1],\n",
    "#     j=[1, 2, 3, 2],\n",
    "#     k=[2, 3, 1, 3],\n",
    "#     name=\"y\",\n",
    "#     showscale=true)\n",
    "# plot(mesh)"
   ]
  },
  {
   "cell_type": "code",
   "execution_count": 2,
   "metadata": {},
   "outputs": [
    {
     "data": {
      "text/plain": [
       "ShapeRetrieval.Mesh([-0.00341018 -0.08171916 … -0.069413 -0.0550398; 0.13031957 0.15250145 … 0.15121847 0.0573097; 0.02175437 0.02965609 … -0.04453854 0.0169909], [1069 1058 … 1318 1320; 1647 909 … 1320 2443; 1578 939 … 2503 2503], Matrix{Float64}(undef, 0, 1))"
      ]
     },
     "metadata": {},
     "output_type": "display_data"
    }
   ],
   "source": [
    "bunny = load_obj(\"../meshes/bunny.obj\")\n",
    "# dragon = load_obj(\"../meshes/dragon.obj\")"
   ]
  },
  {
   "cell_type": "code",
   "execution_count": 4,
   "metadata": {},
   "outputs": [
    {
     "ename": "UndefVarError",
     "evalue": "UndefVarError: `Figure` not defined",
     "output_type": "error",
     "traceback": [
      "UndefVarError: `Figure` not defined\n",
      "\n",
      "Stacktrace:\n",
      " [1] top-level scope\n",
      "   @ ~/Documents/classes/6.8410/ShapeRetrieval/ShapeRetrieval/test.ipynb:1"
     ]
    }
   ],
   "source": [
    "fig = Figure()\n",
    "scene = fig.scene\n",
    "ax1 = Axis3(fig[1,1])\n",
    "# colors = repeat([:red], 2503)\n",
    "s = mesh!(ax1, bunny.V, bunny.F)\n",
    "# mesh(bunny.V, bunny.F, color=colors)\n",
    "fig"
   ]
  },
  {
   "cell_type": "code",
   "execution_count": 3,
   "metadata": {},
   "outputs": [],
   "source": [
    "L = cot_laplacian(bunny)\n",
    "# L = cot_laplacian(dragon)\n",
    "# eigs(L, which=:SM, sigma=1e-5)"
   ]
  },
  {
   "cell_type": "code",
   "execution_count": 39,
   "metadata": {},
   "outputs": [
    {
     "data": {
      "text/plain": [
       "2503×2503 Matrix{Float64}:\n",
       " 0.019988   0.00553675  -0.0103102   …   1.13867e-22   4.03308e-35\n",
       " 0.019988  -0.0234012    0.00567786      7.65882e-20   3.43599e-39\n",
       " 0.019988  -0.00929569   0.00396115      1.1937e-10    7.32361e-30\n",
       " 0.019988  -0.00303107  -0.0189857      -2.2151e-18   -5.84197e-23\n",
       " 0.019988  -0.0310743    0.0191997       8.44879e-23   1.82417e-7\n",
       " 0.019988   0.0113861   -0.0158135   …  -7.97633e-26  -2.57698e-42\n",
       " 0.019988   0.00761956  -0.0173046      -1.26994e-23   9.95507e-35\n",
       " 0.019988  -0.0298548    0.0174476      -2.34208e-16   4.1176e-10\n",
       " 0.019988  -0.029583     0.0170962       1.73229e-17  -1.90603e-16\n",
       " 0.019988  -0.0177892    0.00387206     -2.44328e-16   1.21452e-23\n",
       " ⋮                                   ⋱                \n",
       " 0.019988  -0.0241162    0.011999       -0.00410283    2.64691e-18\n",
       " 0.019988  -0.0294972    0.0173018   …  -2.27609e-13  -2.44147e-11\n",
       " 0.019988  -0.0257943    0.0134917       5.05163e-7    3.74944e-19\n",
       " 0.019988  -0.0224973    0.0109486      -0.148499      7.34531e-19\n",
       " 0.019988  -0.0295493    0.0172116       7.56686e-14   7.07483e-18\n",
       " 0.019988  -0.0303755    0.0181319      -1.27551e-17  -6.50596e-18\n",
       " 0.019988  -0.030461     0.0184001   …  -1.72501e-18  -3.73875e-6\n",
       " 0.019988  -0.0298727    0.0175777      -6.34098e-18  -4.30985e-18\n",
       " 0.019988  -0.00449506  -0.0150254       0.0          -5.22411e-28"
      ]
     },
     "metadata": {},
     "output_type": "display_data"
    }
   ],
   "source": [
    "eigvecs(Matrix(L))"
   ]
  }
 ],
 "metadata": {
  "kernelspec": {
   "display_name": "Julia 1.9.0-rc2",
   "language": "julia",
   "name": "julia-1.9"
  },
  "language_info": {
   "file_extension": ".jl",
   "mimetype": "application/julia",
   "name": "julia",
   "version": "1.9.0-rc2"
  },
  "orig_nbformat": 4
 },
 "nbformat": 4,
 "nbformat_minor": 2
}
