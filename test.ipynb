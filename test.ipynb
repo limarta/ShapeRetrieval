{
 "cells": [
  {
   "cell_type": "code",
   "execution_count": 1,
   "metadata": {},
   "outputs": [],
   "source": [
    "import ShapeRetrieval: ShapeRetrieval as SR\n",
    "using ShapeRetrieval: LearnedTimeDiffusionBlock\n",
    "using SparseArrays\n",
    "import ShapeRetrieval: Mesh, cot_laplacian, heat_integrator\n",
    "using LinearAlgebra\n",
    "using Flux"
   ]
  },
  {
   "attachments": {},
   "cell_type": "markdown",
   "metadata": {},
   "source": [
    "### Visualization Tools"
   ]
  },
  {
   "cell_type": "code",
   "execution_count": 2,
   "metadata": {},
   "outputs": [
    {
     "name": "stdout",
     "output_type": "stream",
     "text": [
      "Area: 1.2018673483165\n"
     ]
    }
   ],
   "source": [
    "bunny = SR.load_obj(\"./meshes/dragon.obj\")\n",
    "bunny = SR.normalize_mesh(bunny)\n",
    "println(\"Area: \", sum(bunny.vertex_area))"
   ]
  },
  {
   "cell_type": "code",
   "execution_count": 3,
   "metadata": {},
   "outputs": [
    {
     "data": {
      "text/plain": [
       "spectral_loss (generic function with 1 method)"
      ]
     },
     "metadata": {},
     "output_type": "display_data"
    }
   ],
   "source": [
    "function spectral_loss(model, x, λ, ϕ, A, y) \n",
    "    norm(model(x, λ, ϕ, A) - y)\n",
    "end"
   ]
  },
  {
   "attachments": {},
   "cell_type": "markdown",
   "metadata": {},
   "source": [
    "## Example Prediction using Spectral Mode"
   ]
  },
  {
   "cell_type": "code",
   "execution_count": 4,
   "metadata": {},
   "outputs": [
    {
     "data": {
      "text/plain": [
       "10194×2 Matrix{Float64}:\n",
       " 1.78522e-8  7.03035e-8\n",
       " 1.78522e-8  7.0311e-8\n",
       " 1.78522e-8  7.03163e-8\n",
       " 1.78522e-8  7.02986e-8\n",
       " 1.78522e-8  7.03175e-8\n",
       " 1.78522e-8  7.03337e-8\n",
       " 1.78523e-8  7.03731e-8\n",
       " 1.78523e-8  7.03488e-8\n",
       " 1.78522e-8  7.03287e-8\n",
       " 1.74402e-8  2.35475e-8\n",
       " ⋮           \n",
       " 1.73925e-8  4.31515e-8\n",
       " 1.73925e-8  4.31846e-8\n",
       " 1.73926e-8  4.33606e-8\n",
       " 1.73926e-8  4.33298e-8\n",
       " 1.73926e-8  4.32986e-8\n",
       " 1.73926e-8  4.32742e-8\n",
       " 1.73926e-8  4.32377e-8\n",
       " 1.74221e-8  2.68366e-8\n",
       " 1.74221e-8  2.68365e-8"
      ]
     },
     "metadata": {},
     "output_type": "display_data"
    }
   ],
   "source": [
    "m = LearnedTimeDiffusionBlock(2, :spectral)\n",
    "heat_signal = zeros(bunny.nv)\n",
    "heat_signal[[1, 300]] .= 1.0\n",
    "λ, ϕ, A = SR.get_diffusion_inputs(bunny)\n",
    "m(heat_signal, λ, ϕ, A)"
   ]
  },
  {
   "attachments": {},
   "cell_type": "markdown",
   "metadata": {},
   "source": [
    "#### Sample Training "
   ]
  },
  {
   "cell_type": "code",
   "execution_count": 11,
   "metadata": {},
   "outputs": [
    {
     "name": "stdout",
     "output_type": "stream",
     "text": [
      " 19.374151 seconds (182.00 k allocations: 93.050 GiB, 15.04% gc time)\n",
      "0.0003553375294513084\n"
     ]
    }
   ],
   "source": [
    "data = [(heat_signal, 0.0),]\n",
    "λ, ϕ, A = SR.get_diffusion_inputs(bunny)\n",
    "\n",
    "opt_state = Flux.setup(Adam(), m);\n",
    "\n",
    "@time for i=1:1000\n",
    "    for d in data\n",
    "        x, y  = d\n",
    "        grad = gradient(spectral_loss, m, x, λ, ϕ, A, y)\n",
    "        Flux.update!(opt_state, m, grad[1])\n",
    "    end\n",
    "end\n",
    "println(m(heat_signal, λ, ϕ, A))"
   ]
  },
  {
   "cell_type": "code",
   "execution_count": 6,
   "metadata": {},
   "outputs": [
    {
     "name": "stdout",
     "output_type": "stream",
     "text": [
      "(200, 2)\n"
     ]
    },
    {
     "name": "stdout",
     "output_type": "stream",
     "text": [
      "[2.9274950637401447, 0.7993044171182087]\n"
     ]
    }
   ],
   "source": [
    "m(heat_signal, SR.get_diffusion_inputs(bunny)...)\n",
    "println(m.diffusion_time)"
   ]
  },
  {
   "attachments": {},
   "cell_type": "markdown",
   "metadata": {},
   "source": [
    "### AD with Implicit Mode"
   ]
  },
  {
   "cell_type": "code",
   "execution_count": 7,
   "metadata": {},
   "outputs": [
    {
     "data": {
      "text/plain": [
       "0.30148325561767775"
      ]
     },
     "metadata": {},
     "output_type": "display_data"
    }
   ],
   "source": [
    "m = LearnedTimeDiffusionBlock(2, :implicit)\n",
    "Flux.trainable(m::LearnedTimeDiffusionBlock) = (m.diffusion_time,)\n",
    "\n",
    "function implicit_loss(model, x, L, M, A::Vector{Float64}, y)\n",
    "    norm(model(x, L, M, A) - y)\n",
    "end\n",
    "\n",
    "inputs = SR.get_diffusion_inputs(bunny,:implicit)\n",
    "m(heat_signal, inputs...)"
   ]
  },
  {
   "cell_type": "code",
   "execution_count": 49,
   "metadata": {},
   "outputs": [
    {
     "data": {
      "text/plain": [
       "0.3014815281221147"
      ]
     },
     "metadata": {},
     "output_type": "display_data"
    },
    {
     "data": {
      "text/plain": [
       "0.301481517244275"
      ]
     },
     "metadata": {},
     "output_type": "display_data"
    }
   ],
   "source": [
    "heat_signal = zeros(bunny.nv)\n",
    "heat_signal[[1, 300]] .= 1.0\n",
    "L, M, A = SR.get_diffusion_inputs(bunny, :implicit)\n",
    "display(m(heat_signal, L, M, A))\n",
    "data = [(heat_signal, bunny, 0.0),]\n",
    "\n",
    "opt_state = Flux.setup(Adam(), m)\n",
    "\n",
    "for i=1:1000\n",
    "    for d in data\n",
    "        x, mesh, y  = d\n",
    "        grad = gradient(implicit_loss, m, x, L,M,A, y)\n",
    "        Flux.update!(opt_state, m, grad[1])\n",
    "    end\n",
    "end\n",
    "\n",
    "display(m(heat_signal, L, M, A))"
   ]
  },
  {
   "cell_type": "code",
   "execution_count": null,
   "metadata": {},
   "outputs": [],
   "source": []
  }
 ],
 "metadata": {
  "kernelspec": {
   "display_name": "Julia 1.9.0-rc3",
   "language": "julia",
   "name": "julia-1.9"
  },
  "language_info": {
   "file_extension": ".jl",
   "mimetype": "application/julia",
   "name": "julia",
   "version": "1.9.0-rc3"
  },
  "orig_nbformat": 4
 },
 "nbformat": 4,
 "nbformat_minor": 2
}
