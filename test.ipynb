{
 "cells": [
  {
   "cell_type": "code",
   "execution_count": 1,
   "metadata": {},
   "outputs": [],
   "source": [
    "import ShapeRetrieval: ShapeRetrieval as SR\n",
    "using ShapeRetrieval: LearnedTimeDiffusionBlock\n",
    "using SparseArrays\n",
    "import ShapeRetrieval: Mesh, cot_laplacian, heat_integrator\n",
    "using LinearAlgebra\n",
    "using Flux"
   ]
  },
  {
   "attachments": {},
   "cell_type": "markdown",
   "metadata": {},
   "source": [
    "### Visualization Tools"
   ]
  },
  {
   "cell_type": "code",
   "execution_count": 33,
   "metadata": {},
   "outputs": [
    {
     "name": "stdout",
     "output_type": "stream",
     "text": [
      "Area: 2.681867885523121\n"
     ]
    }
   ],
   "source": [
    "bunny = SR.load_obj(\"./meshes/gourd.obj\")\n",
    "bunny = SR.normalize_mesh(bunny)\n",
    "println(\"Area: \", sum(bunny.vertex_area))"
   ]
  },
  {
   "cell_type": "code",
   "execution_count": 34,
   "metadata": {},
   "outputs": [
    {
     "data": {
      "text/plain": [
       "spectral_loss (generic function with 1 method)"
      ]
     },
     "metadata": {},
     "output_type": "display_data"
    }
   ],
   "source": [
    "function spectral_loss(model, x, λ, ϕ, A, y) \n",
    "    norm(model(x, λ, ϕ, A) - y)\n",
    "end"
   ]
  },
  {
   "attachments": {},
   "cell_type": "markdown",
   "metadata": {},
   "source": [
    "## Example Prediction using Spectral Mode"
   ]
  },
  {
   "cell_type": "code",
   "execution_count": 35,
   "metadata": {},
   "outputs": [
    {
     "data": {
      "text/plain": [
       "0.002585682520827768"
      ]
     },
     "metadata": {},
     "output_type": "display_data"
    }
   ],
   "source": [
    "m = LearnedTimeDiffusionBlock(2, :spectral)\n",
    "Flux.trainable(m::LearnedTimeDiffusionBlock) = (m.diffusion_time,)\n",
    "heat_signal = zeros(bunny.nv)\n",
    "heat_signal[[1, 300]] .= 1.0\n",
    "λ, ϕ, A = SR.get_diffusion_inputs(bunny)\n",
    "m(heat_signal, λ, ϕ, A)"
   ]
  },
  {
   "attachments": {},
   "cell_type": "markdown",
   "metadata": {},
   "source": [
    "#### Sample Training "
   ]
  },
  {
   "cell_type": "code",
   "execution_count": 36,
   "metadata": {},
   "outputs": [
    {
     "name": "stdout",
     "output_type": "stream",
     "text": [
      "0.002480214795426222\n"
     ]
    }
   ],
   "source": [
    "data = [(heat_signal, 0.0),]\n",
    "λ, ϕ, A = SR.get_diffusion_inputs(bunny)\n",
    "\n",
    "opt_state = Flux.setup(Adam(), m);\n",
    "\n",
    "for i=1:10000\n",
    "    for d in data\n",
    "        x, y  = d\n",
    "        grad = gradient(spectral_loss, m, x, λ, ϕ, A, y)\n",
    "        Flux.update!(opt_state, m, grad[1])\n",
    "    end\n",
    "end\n",
    "println(m(heat_signal, λ, ϕ, A))"
   ]
  },
  {
   "cell_type": "code",
   "execution_count": 37,
   "metadata": {},
   "outputs": [
    {
     "name": "stdout",
     "output_type": "stream",
     "text": [
      "[2.857100931207603, 0.18106338255963728]\n"
     ]
    }
   ],
   "source": [
    "m(heat_signal, SR.get_diffusion_inputs(bunny)...)\n",
    "println(m.diffusion_time)"
   ]
  },
  {
   "attachments": {},
   "cell_type": "markdown",
   "metadata": {},
   "source": [
    "### AD with Implicit Mode"
   ]
  },
  {
   "cell_type": "code",
   "execution_count": 40,
   "metadata": {},
   "outputs": [
    {
     "data": {
      "text/plain": [
       "0.3455935489505035"
      ]
     },
     "metadata": {},
     "output_type": "display_data"
    }
   ],
   "source": [
    "m = LearnedTimeDiffusionBlock(2, :implicit)\n",
    "Flux.trainable(m::LearnedTimeDiffusionBlock) = (m.diffusion_time,)\n",
    "\n",
    "function implicit_loss(model, x, L, M, A::Vector{Float64}, y)\n",
    "    norm(model(x, L, M, A) - y)\n",
    "end\n",
    "\n",
    "inputs = SR.get_diffusion_inputs(bunny,:implicit)\n",
    "m(heat_signal, inputs...)"
   ]
  },
  {
   "cell_type": "code",
   "execution_count": 49,
   "metadata": {},
   "outputs": [
    {
     "data": {
      "text/plain": [
       "0.3014815281221147"
      ]
     },
     "metadata": {},
     "output_type": "display_data"
    },
    {
     "data": {
      "text/plain": [
       "0.301481517244275"
      ]
     },
     "metadata": {},
     "output_type": "display_data"
    }
   ],
   "source": [
    "heat_signal = zeros(bunny.nv)\n",
    "heat_signal[[1, 300]] .= 1.0\n",
    "L, M, A = SR.get_diffusion_inputs(bunny, :implicit)\n",
    "display(m(heat_signal, L, M, A))\n",
    "data = [(heat_signal, bunny, 0.0),]\n",
    "\n",
    "opt_state = Flux.setup(Adam(), m)\n",
    "\n",
    "for i=1:1000\n",
    "    for d in data\n",
    "        x, mesh, y  = d\n",
    "        grad = gradient(implicit_loss, m, x, L,M,A, y)\n",
    "        Flux.update!(opt_state, m, grad[1])\n",
    "    end\n",
    "end\n",
    "\n",
    "display(m(heat_signal, L, M, A))"
   ]
  },
  {
   "cell_type": "code",
   "execution_count": null,
   "metadata": {},
   "outputs": [],
   "source": []
  }
 ],
 "metadata": {
  "kernelspec": {
   "display_name": "Julia 1.9.0-rc3",
   "language": "julia",
   "name": "julia-1.9"
  },
  "language_info": {
   "file_extension": ".jl",
   "mimetype": "application/julia",
   "name": "julia",
   "version": "1.9.0-rc3"
  },
  "orig_nbformat": 4
 },
 "nbformat": 4,
 "nbformat_minor": 2
}
